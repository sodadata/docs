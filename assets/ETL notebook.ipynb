{
 "cells": [
  {
   "cell_type": "code",
   "execution_count": null,
   "metadata": {
    "application/vnd.databricks.v1+cell": {
     "cellMetadata": {
      "byteLimit": 2048000,
      "rowLimit": 10000
     },
     "inputWidgets": {},
     "nuid": "3e8f4ad9-1f48-4f99-9107-308f081e9c1e",
     "showTitle": false,
     "title": ""
    }
   },
   "outputs": [],
   "source": [
    "# Import necessary libraries\n",
    "import pandas as pd\n",
    "import numpy as np\n",
    "from datetime import datetime, timedelta\n",
    "from sklearn.preprocessing import MinMaxScaler, StandardScaler, OneHotEncoder\n",
    "\n",
    "from pyspark.sql import SparkSession\n",
    "from pyspark.sql.types import DateType\n",
    "from pyspark.sql.functions import col\n",
    "from pathlib import Path "
   ]
  },
  {
   "cell_type": "code",
   "execution_count": null,
   "metadata": {
    "application/vnd.databricks.v1+cell": {
     "cellMetadata": {
      "byteLimit": 2048000,
      "rowLimit": 10000
     },
     "inputWidgets": {},
     "nuid": "ca2c537d-9e34-413c-a88e-6e2f6ca12ed1",
     "showTitle": false,
     "title": ""
    }
   },
   "outputs": [],
   "source": [
    "# Initialize Spark session (usually pre-configured in Databricks)\n",
    "spark = SparkSession.builder.appName(\"ETLExample\").getOrCreate()"
   ]
  },
  {
   "cell_type": "code",
   "execution_count": null,
   "metadata": {
    "application/vnd.databricks.v1+cell": {
     "cellMetadata": {
      "byteLimit": 2048000,
      "rowLimit": 10000
     },
     "inputWidgets": {},
     "nuid": "c3498913-e60d-4102-bc7f-8da8506cc6ba",
     "showTitle": false,
     "title": ""
    }
   },
   "outputs": [],
   "source": [
    "# Define the file partition\n",
    "partition = (datetime.today().date() - timedelta(days=1)).strftime(\"%Y-%m-%d\")"
   ]
  },
  {
   "cell_type": "code",
   "execution_count": null,
   "metadata": {
    "application/vnd.databricks.v1+cell": {
     "cellMetadata": {
      "byteLimit": 2048000,
      "rowLimit": 10000
     },
     "inputWidgets": {},
     "nuid": "7de62239-ad86-482b-9d17-ea112a2123ed",
     "showTitle": false,
     "title": ""
    }
   },
   "outputs": [],
   "source": [
    "# Transformation function\n",
    "def calculate_working_minutes(row):\n",
    "\n",
    "    logout_time = datetime.strptime(row['LogoutTime'], '%Y-%m-%dT%H:%M:%S.%fZ')\n",
    "    login_time = datetime.strptime(row['LoginTime'], '%Y-%m-%dT%H:%M:%S.%fZ')\n",
    "    \n",
    "    duration = logout_time - login_time\n",
    "    minutes = duration.total_seconds() / 60\n",
    "    \n",
    "    return minutes"
   ]
  },
  {
   "cell_type": "code",
   "execution_count": null,
   "metadata": {
    "application/vnd.databricks.v1+cell": {
     "cellMetadata": {
      "byteLimit": 2048000,
      "rowLimit": 10000
     },
     "inputWidgets": {},
     "nuid": "fcc95b02-0e01-4278-8509-bae948f31e5b",
     "showTitle": false,
     "title": ""
    }
   },
   "outputs": [],
   "source": [
    "# Import data from DBFS\n",
    "working_mins = spark.read.option(\"header\", True).csv(f\"/Workspace/Users/vivi.belogianni@soda.io/employee_attrition/soda_settings/login_logout/PartitionDate={partition}\").toPandas()\n",
    "\n",
    "working_mins['PartitionDate'] = partition\n",
    "working_mins[\"EmployeeID\"] = working_mins[\"EmployeeID\"].astype(\"int\")"
   ]
  },
  {
   "cell_type": "code",
   "execution_count": null,
   "metadata": {
    "application/vnd.databricks.v1+cell": {
     "cellMetadata": {
      "byteLimit": 2048000,
      "rowLimit": 10000
     },
     "inputWidgets": {},
     "nuid": "05618b3b-bb06-4b80-95d8-e17d5f4b4123",
     "showTitle": false,
     "title": ""
    }
   },
   "outputs": [],
   "source": [
    "# Import data from Unity catalog \n",
    "employees = spark.sql(\"\"\"SELECT * \n",
    "        FROM unity_catalog.employees.employee_info\"\"\").toPandas()\n",
    "\n",
    "employee_survey = spark.sql(\"\"\"SELECT * \n",
    "        FROM unity_catalog.employees.employee_survey\"\"\").toPandas()\n",
    "\n",
    "manager_survey = spark.sql(\"\"\"SELECT * \n",
    "        FROM unity_catalog.employees.manager_survey\"\"\").toPandas()\n"
   ]
  },
  {
   "cell_type": "code",
   "execution_count": null,
   "metadata": {
    "application/vnd.databricks.v1+cell": {
     "cellMetadata": {
      "byteLimit": 2048000,
      "rowLimit": 10000
     },
     "inputWidgets": {},
     "nuid": "bd7a9190-f0a9-4e7d-be4e-ccaeb7538d85",
     "showTitle": false,
     "title": ""
    }
   },
   "outputs": [],
   "source": [
    "# Transofrmations\n",
    "\n",
    "working_mins['WorkingMinutes'] = working_mins.apply(calculate_working_minutes, axis=1)\n",
    "\n",
    "# # Handle missing values\n",
    "employees[['Age', 'TotalWorkingYears', 'MonthlyIncome']] = employees[['Age', 'TotalWorkingYears', 'MonthlyIncome']].replace('NA', np.nan)\n",
    "\n",
    "# # Convert columns to float\n",
    "employees[['Age', 'TotalWorkingYears', 'MonthlyIncome']] = employees[['Age', 'TotalWorkingYears', 'MonthlyIncome']].astype(float)\n",
    "\n",
    "# # Scale the columns \n",
    "scaler = StandardScaler()\n",
    "\n",
    "employees[['Age', 'TotalWorkingYears', 'MonthlyIncome']] = scaler.fit_transform(employees[['Age','TotalWorkingYears', 'MonthlyIncome']])\n",
    "\n",
    "# Encoding of categorical values \n",
    "\n",
    "#Initialize OneHotEncoder\n",
    "encoder = OneHotEncoder(sparse_output=False)\n",
    "\n",
    "\n",
    "to_encode = ['Department', 'Gender', 'JobRole']\n",
    "\n",
    "encoded_data = encoder.fit_transform(employees[to_encode])\n",
    "\n",
    "one_hot_df = pd.DataFrame(encoded_data, columns=encoder.get_feature_names_out(to_encode))\n",
    "employees = pd.concat([employees, one_hot_df], axis=1).drop(to_encode, axis=1)\n",
    "\n",
    "\n",
    "# Correlation analysis \n",
    "\n",
    "employees.drop(columns = ['Education', 'EmployeeCount', 'BusinessTravel',\n",
    "                          'Over18', 'StandardHours', 'TrainingTimesLastYear', \n",
    "                          'EducationField', 'DistanceFromHome', 'YearsWithCurrManager'], axis=1, inplace=True)\n"
   ]
  },
  {
   "cell_type": "code",
   "execution_count": null,
   "metadata": {
    "application/vnd.databricks.v1+cell": {
     "cellMetadata": {
      "byteLimit": 2048000,
      "rowLimit": 10000
     },
     "inputWidgets": {},
     "nuid": "855000ef-b178-4ce3-9d00-890b53abd4fe",
     "showTitle": false,
     "title": ""
    }
   },
   "outputs": [],
   "source": [
    "# Combine data for exporting\n",
    "input_data = (employees.merge(manager_survey, on='EmployeeID', how='left', suffixes=('_employees', '_manager')) \n",
    "                     .merge(employee_survey, on='EmployeeID', how='left', suffixes=('_employees', '_employee')) \n",
    "                     .merge(working_mins[['WorkingMinutes', 'EmployeeID', 'PartitionDate']], on='EmployeeID'))"
   ]
  },
  {
   "cell_type": "code",
   "execution_count": null,
   "metadata": {
    "application/vnd.databricks.v1+cell": {
     "cellMetadata": {
      "byteLimit": 2048000,
      "rowLimit": 10000
     },
     "inputWidgets": {},
     "nuid": "54f482cb-6dd3-4bcf-943d-27c6d628a5e9",
     "showTitle": false,
     "title": ""
    }
   },
   "outputs": [],
   "source": [
    "input_data.columns = input_data.columns.str.replace(' ', '_')\n"
   ]
  },
  {
   "cell_type": "code",
   "execution_count": null,
   "metadata": {
    "application/vnd.databricks.v1+cell": {
     "cellMetadata": {
      "byteLimit": 2048000,
      "rowLimit": 10000
     },
     "inputWidgets": {},
     "nuid": "998d1787-edf9-411d-b0dc-68c7580e3996",
     "showTitle": false,
     "title": ""
    }
   },
   "outputs": [],
   "source": [
    "spark_df = spark.createDataFrame(input_data)\n",
    "spark_df = spark_df.withColumn('PartitionDate', col('PartitionDate').cast(DateType()))\n",
    "\n",
    "spark_df.write \\\n",
    "    .mode(\"overwrite\") \\\n",
    "    .partitionBy(\"PartitionDate\") \\\n",
    "    .saveAsTable(\"unity_catalog.employees.input_data_attrition_model\")"
   ]
  }
 ],
 "metadata": {
  "application/vnd.databricks.v1+notebook": {
   "dashboards": [],
   "environmentMetadata": null,
   "language": "python",
   "notebookMetadata": {
    "pythonIndentUnit": 4
   },
   "notebookName": "ETL notebook",
   "widgets": {}
  },
  "language_info": {
   "name": "python"
  }
 },
 "nbformat": 4,
 "nbformat_minor": 0
}
