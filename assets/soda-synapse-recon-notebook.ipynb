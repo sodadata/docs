{
  "cells": [
    {
      "cell_type": "markdown",
      "metadata": {
        "nteract": {
          "transient": {
            "deleting": false
          }
        }
      },
      "source": [
        "# Soda Reconcilliation Check\n",
        "Reconcile datasets after copying from PostgreSQL to Synapse SQL."
      ]
    },
    {
      "cell_type": "markdown",
      "metadata": {
        "nteract": {
          "transient": {
            "deleting": false
          }
        }
      },
      "source": [
        "## Configure connections to the data source and Soda Cloud\n",
        "For sensitive credential values, this example gets the values from a linked Azure Key Vault."
      ]
    },
    {
      "cell_type": "code",
      "execution_count": 2,
      "metadata": {
        "jupyter": {
          "outputs_hidden": false,
          "source_hidden": false
        },
        "nteract": {
          "transient": {
            "deleting": false
          }
        }
      },
      "outputs": [
        {
          "data": {
            "application/vnd.livy.statement-meta+json": {
              "execution_finish_time": "2024-08-09T16:27:46.1303365Z",
              "execution_start_time": "2024-08-09T16:27:44.2473013Z",
              "livy_statement_state": "available",
              "normalized_state": "finished",
              "parent_msg_id": "d90b87cd-e69c-4db4-b495-d0e3dc7dc24b",
              "queued_time": "2024-08-09T16:27:43.729247Z",
              "session_id": "19",
              "session_start_time": null,
              "spark_jobs": null,
              "spark_pool": "tasoda",
              "state": "finished",
              "statement_id": 3,
              "statement_ids": [
                3
              ]
            },
            "text/plain": [
              "StatementMeta(tasoda, 19, 3, Finished, Available, Finished)"
            ]
          },
          "metadata": {},
          "output_type": "display_data"
        }
      ],
      "source": [
        "from notebookutils import mssparkutils\n",
        "\n",
        "config_str = f\"\"\"\n",
        "data_source postgres_data:\n",
        "  type: postgres\n",
        "  host: soda-demo.xxx.eu-west-1.rds.amazonaws.com\n",
        "  port: 5432\n",
        "  username: my_user\n",
        "  password: {mssparkutils.credentials.getSecret('soda-vault' , 'postgres-pw')}\n",
        "  database: postgres\n",
        "  schema: soda_demo_data_testing\n",
        "data_source azure_sql_data:\n",
        "  type: sqlserver\n",
        "  driver: ODBC Driver 18 for SQL Server\n",
        "  host: soda.sql.azuresynapse.net\n",
        "  port: xxxx\n",
        "  username: my_sql_user\n",
        "  password: {mssparkutils.credentials.getSecret('soda-vault' , 'sql-pw')}\n",
        "  database: soda_sqlserver\n",
        "  schema: soda_demo_data_testing\n",
        "soda_cloud:\n",
        "  host: cloud.us.soda.io\n",
        "  api_key_id: {mssparkutils.credentials.getSecret('soda-vault' , 'soda-api-key-id')}\n",
        "  api_key_secret: {mssparkutils.credentials.getSecret('soda-vault' , 'soda-api-key-secret')}\n",
        "\"\"\""
      ]
    },
    {
      "cell_type": "markdown",
      "metadata": {
        "nteract": {
          "transient": {
            "deleting": false
          }
        }
      },
      "source": [
        "## Define the reconcilliation checks using Soda Checks Language (SodaCL)\n",
        "This section defines the Soda checks for the datasets. Refer to Soda docs for details: https://go.soda.io/recon"
      ]
    },
    {
      "cell_type": "code",
      "execution_count": 26,
      "metadata": {
        "jupyter": {
          "outputs_hidden": false,
          "source_hidden": false
        },
        "nteract": {
          "transient": {
            "deleting": false
          }
        }
      },
      "outputs": [
        {
          "data": {
            "application/vnd.livy.statement-meta+json": {
              "execution_finish_time": "2024-08-09T16:34:51.097803Z",
              "execution_start_time": "2024-08-09T16:34:50.945663Z",
              "livy_statement_state": "available",
              "normalized_state": "finished",
              "parent_msg_id": "2c106381-c47f-4f21-a030-17c1e37d438d",
              "queued_time": "2024-08-09T16:34:50.8172869Z",
              "session_id": "19",
              "session_start_time": null,
              "spark_jobs": null,
              "spark_pool": "tasoda",
              "state": "finished",
              "statement_id": 27,
              "statement_ids": [
                27
              ]
            },
            "text/plain": [
              "StatementMeta(tasoda, 19, 27, Finished, Available, Finished)"
            ]
          },
          "metadata": {},
          "output_type": "display_data"
        }
      ],
      "source": [
        "check_str = \"\"\"reconciliation retail_customers:\n",
        "  label: 'Reconcile Postgres source and Azure SQL target'\n",
        "  datasets:\n",
        "    source:\n",
        "      dataset: retail_customers\n",
        "      datasource: postgres_data\n",
        "    target:\n",
        "      dataset: retail_customers\n",
        "      datasource: azure_sql_data\n",
        "\n",
        "  checks:\n",
        "    - row_count diff = 0\n",
        "        attributes:\n",
        "          data_quality_dimension: [Reconciliation, Volume]\n",
        "          pipeline: ADF_pipeline_demo\n",
        "          pipeline_stage: Migration\n",
        "          data_domain: Sales\n",
        "    - duplicate_count(customer_id):\n",
        "        fail: when diff > 0\n",
        "        attributes:\n",
        "          data_quality_dimension: [Reconciliation, Uniqueness]\n",
        "          pipeline: ADF_pipeline_demo\n",
        "          pipeline_stage: Migration\n",
        "          data_domain: Sales\n",
        "    - missing_count(customer_id):\n",
        "        fail: when diff > 0\n",
        "        attributes:\n",
        "          data_quality_dimension: [Reconciliation, Completeness]\n",
        "          pipeline: ADF_pipeline_demo\n",
        "          pipeline_stage: Migration\n",
        "          data_domain: Sales\n",
        "    - missing_count(country_code):\n",
        "        fail: when diff > 0\n",
        "        attributes:\n",
        "          data_quality_dimension: [Reconciliation, Completeness]\n",
        "          pipeline: ADF_pipeline_demo\n",
        "          pipeline_stage: Migration\n",
        "          data_domain: Sales\n",
        "\"\"\""
      ]
    },
    {
      "cell_type": "markdown",
      "metadata": {
        "nteract": {
          "transient": {
            "deleting": false
          }
        }
      },
      "source": [
        "## Run the Soda scan\n",
        "\n",
        "If `scan.assert_no_checks_fail()` returns an `AssertionError` due to failed checks, then the Azure Data Factory pipeline in which this notebook resides halts."
      ]
    },
    {
      "cell_type": "code",
      "execution_count": 27,
      "metadata": {
        "jupyter": {
          "outputs_hidden": false,
          "source_hidden": false
        },
        "nteract": {
          "transient": {
            "deleting": false
          }
        }
      },
      "outputs": [
        {
          "data": {
            "application/vnd.livy.statement-meta+json": {
              "execution_finish_time": "2024-08-09T16:35:00.1288247Z",
              "execution_start_time": "2024-08-09T16:34:53.2815144Z",
              "livy_statement_state": "available",
              "normalized_state": "finished",
              "parent_msg_id": "b1577a84-340e-4b0b-b44f-f9578535556d",
              "queued_time": "2024-08-09T16:34:53.1540135Z",
              "session_id": "19",
              "session_start_time": null,
              "spark_jobs": null,
              "spark_pool": "tasoda",
              "state": "finished",
              "statement_id": 28,
              "statement_ids": [
                28
              ]
            },
            "text/plain": [
              "StatementMeta(tasoda, 19, 28, Finished, Available, Finished)"
            ]
          },
          "metadata": {},
          "output_type": "display_data"
        }
      ],
      "source": [
        "from soda.scan import Scan\n",
        "scan = Scan()\n",
        "scan.set_data_source_name('azure_sql_data')\n",
        "scan.add_configuration_yaml_str(config_str)\n",
        "scan.set_scan_definition_name('reconciliation')\n",
        "scan.set_verbose(True)\n",
        "scan.add_sodacl_yaml_str(check_str)\n",
        "scan.execute()\n",
        "scan.assert_no_checks_fail()"
      ]
    },
    {
      "cell_type": "code",
      "execution_count": null,
      "metadata": {
        "jupyter": {
          "outputs_hidden": false,
          "source_hidden": false
        },
        "nteract": {
          "transient": {
            "deleting": false
          }
        }
      },
      "outputs": [],
      "source": []
    }
  ],
  "metadata": {
    "description": null,
    "kernelspec": {
      "display_name": "python",
      "name": "synapse_pyspark"
    },
    "language_info": {
      "name": "python"
    },
    "save_output": true,
    "synapse_widget": {
      "state": {},
      "version": "0.1"
    }
  },
  "nbformat": 4,
  "nbformat_minor": 2
}
