{
 "cells": [
  {
   "cell_type": "code",
   "execution_count": null,
   "metadata": {
    "application/vnd.databricks.v1+cell": {
     "cellMetadata": {
      "byteLimit": 2048000,
      "rowLimit": 10000
     },
     "inputWidgets": {},
     "nuid": "5a42d7b1-f75a-4d44-af68-228b3014da37",
     "showTitle": false,
     "title": ""
    }
   },
   "outputs": [],
   "source": [
    "# Install to run checks on data in the Unity catalog\n",
    "pip install -i https://pypi.cloud.soda.io soda-spark-df"
   ]
  },
  {
   "cell_type": "code",
   "execution_count": null,
   "metadata": {
    "application/vnd.databricks.v1+cell": {
     "cellMetadata": {},
     "inputWidgets": {},
     "nuid": "27b98ba1-3134-46f0-bece-a30459689ba6",
     "showTitle": false,
     "title": ""
    }
   },
   "outputs": [],
   "source": [
    "# Install to run checks on data in the file stored in Databricks file system\n",
    "pip install -i https://pypi.cloud.soda.io soda-spark[databricks]"
   ]
  },
  {
   "cell_type": "code",
   "execution_count": null,
   "metadata": {
    "application/vnd.databricks.v1+cell": {
     "cellMetadata": {
      "byteLimit": 2048000,
      "rowLimit": 10000
     },
     "inputWidgets": {},
     "nuid": "33fb3d3a-cdc7-45fc-b659-6ba2adcf3e9e",
     "showTitle": false,
     "title": ""
    }
   },
   "outputs": [],
   "source": [
    "dbutils.library.restartPython()"
   ]
  },
  {
   "cell_type": "code",
   "execution_count": null,
   "metadata": {
    "application/vnd.databricks.v1+cell": {
     "cellMetadata": {
      "byteLimit": 2048000,
      "rowLimit": 10000
     },
     "inputWidgets": {},
     "nuid": "50f176a3-91dc-4236-9fa0-c9dd6b1512af",
     "showTitle": false,
     "title": ""
    }
   },
   "outputs": [],
   "source": [
    "# Import Scan from Soda Library\n",
    "from soda.scan import Scan \n",
    "import yaml\n",
    "from io import StringIO\n",
    "from pathlib import Path\n",
    "from datetime import datetime, timedelta\n",
    "\n",
    "# Define file directory\n",
    "settings_path = Path('/Workspace/Users/vivi.belogianni@soda.io/employee_attrition/soda_settings')\n",
    "\n",
    "# Define results file directory\n",
    "result_path = Path('/Workspace/Users/vivi.belogianni@soda.io/employee_attrition/checks_output')\n"
   ]
  },
  {
   "cell_type": "code",
   "execution_count": null,
   "metadata": {
    "application/vnd.databricks.v1+cell": {
     "cellMetadata": {
      "byteLimit": 2048000,
      "rowLimit": 10000
     },
     "inputWidgets": {},
     "nuid": "3b4ce008-ebab-4f42-a762-f34fed5d82a5",
     "showTitle": false,
     "title": ""
    }
   },
   "outputs": [],
   "source": [
    "# Define the file partition\n",
    "partition = (datetime.today().date() - timedelta(days=1)).strftime(\"%Y-%m-%d\")"
   ]
  },
  {
   "cell_type": "code",
   "execution_count": null,
   "metadata": {
    "application/vnd.databricks.v1+cell": {
     "cellMetadata": {
      "byteLimit": 2048000,
      "rowLimit": 10000
     },
     "inputWidgets": {},
     "nuid": "6131a1a0-19e6-4e92-a82f-4da4b74226af",
     "showTitle": false,
     "title": ""
    }
   },
   "outputs": [],
   "source": [
    "# Create a scan object\n",
    "scan = Scan()\n",
    "\n",
    "# Set scan name and data source name\n",
    "scan.set_scan_definition_name(\"Employee Attrition Scan\")\n",
    "scan.set_data_source_name(\"employee_info\")"
   ]
  },
  {
   "cell_type": "code",
   "execution_count": null,
   "metadata": {
    "application/vnd.databricks.v1+cell": {
     "cellMetadata": {
      "byteLimit": 2048000,
      "rowLimit": 10000
     },
     "inputWidgets": {},
     "nuid": "6b560e5f-9b5e-499c-87a8-1a41aa815f7f",
     "showTitle": false,
     "title": ""
    }
   },
   "outputs": [],
   "source": [
    "# Add file to be scanned \n",
    "df = spark.read.option(\"header\", True).csv(f\"dbfs:/Workspace/Users/vivi.belogianni@soda.io/employee_attrition/soda_settings/login_logout/PartitionDate={partition}\")\n",
    "\n",
    "# Create temporary View to run the checks \n",
    "df.createOrReplaceTempView(\"login_logout\")\n",
    "\n",
    "# Add View to the scan object\n",
    "scan.add_spark_session(spark, data_source_name=\"login_logout.py\")"
   ]
  },
  {
   "cell_type": "code",
   "execution_count": null,
   "metadata": {
    "application/vnd.databricks.v1+cell": {
     "cellMetadata": {
      "byteLimit": 2048000,
      "rowLimit": 10000
     },
     "inputWidgets": {},
     "nuid": "227a062f-22b7-4aa0-916d-6aa340342cc9",
     "showTitle": false,
     "title": ""
    }
   },
   "outputs": [],
   "source": [
    "# Access the checks YAML file \n",
    "with open(settings_path/\"ingestion_checks.yml\") as ing_checks:\n",
    "    ingestion = ing_checks.read()\n",
    "\n",
    "# Create a file-like object from the YAML content\n",
    "ingestion_checks = StringIO(ingestion)\n",
    "\n",
    "# Use the scan.add_sodacl_yaml method to retrieve the checks\n",
    "scan.add_sodacl_yaml_str(ingestion_checks)"
   ]
  },
  {
   "cell_type": "code",
   "execution_count": null,
   "metadata": {
    "application/vnd.databricks.v1+cell": {
     "cellMetadata": {
      "byteLimit": 2048000,
      "rowLimit": 10000
     },
     "inputWidgets": {},
     "nuid": "b95dc693-33de-4c2a-bddb-fee5bcb7c651",
     "showTitle": false,
     "title": ""
    }
   },
   "outputs": [],
   "source": [
    "# Retrieve the configuration file and use the scan.add_sodacl_yaml method \n",
    "with open(settings_path/\"soda_conf.yml\") as cfg:\n",
    "    cfg_content = cfg.read()\n",
    "\n",
    "# Create a file-like object from the YAML content\n",
    "conf = StringIO(cfg_content)\n",
    "\n",
    "# Add the data source connection configuration to the scan\n",
    "scan.add_configuration_yaml_str(conf)"
   ]
  },
  {
   "cell_type": "code",
   "execution_count": null,
   "metadata": {
    "application/vnd.databricks.v1+cell": {
     "cellMetadata": {
      "byteLimit": 2048000,
      "rowLimit": 10000
     },
     "inputWidgets": {},
     "nuid": "8ea28679-8b2c-447c-9521-eef74fd13fdf",
     "showTitle": false,
     "title": ""
    }
   },
   "outputs": [],
   "source": [
    "# Execute the scan\n",
    "scan.execute()\n",
    "\n",
    "# Check the Scan object for methods to inspect the scan result; print all logs to console\n",
    "print(scan.get_logs_text())"
   ]
  },
  {
   "cell_type": "code",
   "execution_count": null,
   "metadata": {
    "application/vnd.databricks.v1+cell": {
     "cellMetadata": {
      "byteLimit": 2048000,
      "rowLimit": 10000
     },
     "inputWidgets": {},
     "nuid": "b15bcc98-ac33-4c64-beb5-9c1b1e4d1579",
     "showTitle": false,
     "title": ""
    }
   },
   "outputs": [],
   "source": [
    "# Save the checks metadata for further analysis\n",
    "metadata = scan.build_scan_results()\n",
    "\n",
    "scan_date = datetime.now().date().strftime(\"%Y-%m-%d\")\n",
    "\n",
    "scan.save_scan_result_to_file(result_path/f\"ingestion_result_{scan_date}.json\", metadata['checks'])"
   ]
  },
  {
   "cell_type": "code",
   "execution_count": null,
   "metadata": {
    "application/vnd.databricks.v1+cell": {
     "cellMetadata": {
      "byteLimit": 2048000,
      "rowLimit": 10000
     },
     "inputWidgets": {},
     "nuid": "0cb0f5c0-2660-4578-bc4e-534b902d305e",
     "showTitle": false,
     "title": ""
    }
   },
   "outputs": [],
   "source": [
    "checks_data = [\n",
    "    {\n",
    "        'column': check.get('column'),\n",
    "        'dataSource': check.get('dataSource'),\n",
    "        'outcome': check.get('outcome'),\n",
    "        'name': check.get('name'),\n",
    "        'scanEndTimestamp':metadata['scanEndTimestamp'],\n",
    "    }\n",
    "    for check in metadata.get('checks', [])\n",
    "]\n",
    "\n",
    "# output_data = {\n",
    "#     'scanEndTimestamp':metadata['scanEndTimestamp'],\n",
    "#     'checks': checks_data\n",
    "# }"
   ]
  },
  {
   "cell_type": "code",
   "execution_count": null,
   "metadata": {
    "application/vnd.databricks.v1+cell": {
     "cellMetadata": {
      "byteLimit": 2048000,
      "rowLimit": 10000
     },
     "inputWidgets": {},
     "nuid": "08894276-aaa4-4587-93b0-8e2386ae1a14",
     "showTitle": false,
     "title": ""
    }
   },
   "outputs": [],
   "source": [
    "import json\n",
    "checks_data_json = json.dumps(checks_data)"
   ]
  },
  {
   "cell_type": "code",
   "execution_count": null,
   "metadata": {
    "application/vnd.databricks.v1+cell": {
     "cellMetadata": {
      "byteLimit": 2048000,
      "rowLimit": 10000
     },
     "inputWidgets": {},
     "nuid": "e96ee86b-162f-4563-8396-93f03e86dae1",
     "showTitle": false,
     "title": ""
    }
   },
   "outputs": [],
   "source": [
    "scan.save_scan_result_to_file(result_path/f\"test.json\", checks_data_json)"
   ]
  }
 ],
 "metadata": {
  "application/vnd.databricks.v1+notebook": {
   "dashboards": [],
   "environmentMetadata": {
    "base_environment": "",
    "client": "1"
   },
   "language": "python",
   "notebookMetadata": {
    "mostRecentlyExecutedCommandWithImplicitDF": {
     "commandId": 2507395847389190,
     "dataframes": [
      "_sqldf"
     ]
    },
    "pythonIndentUnit": 4
   },
   "notebookName": "Data Ingestion Checks",
   "widgets": {}
  },
  "language_info": {
   "name": "python"
  }
 },
 "nbformat": 4,
 "nbformat_minor": 0
}
