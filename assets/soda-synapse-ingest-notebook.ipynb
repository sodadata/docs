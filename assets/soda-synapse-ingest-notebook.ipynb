{
 "cells": [
  {
   "cell_type": "markdown",
   "metadata": {
    "nteract": {
     "transient": {
      "deleting": false
     }
    }
   },
   "source": [
    "# Soda Post-ingestion Checks\n",
    "Use Soda to run a scan that checks the completeness the data, ensuring data is not missing or duplicated."
   ]
  },
  {
   "cell_type": "markdown",
   "metadata": {
    "nteract": {
     "transient": {
      "deleting": false
     }
    }
   },
   "source": [
    "## Configure connections to the data source and Soda Cloud\n",
    "For sensitive credential values, this example gets the values from a linked Azure Key Vault."
   ]
  },
  {
   "cell_type": "code",
   "metadata": {
    "jupyter": {
     "outputs_hidden": false,
     "source_hidden": false
    },
    "nteract": {
     "transient": {
      "deleting": false
     }
    }
   },
   "source": [
    "from notebookutils import mssparkutils\n",
    "\n",
    "config_str = f\"\"\"\n",
    "data_source azure_sql_data:\n",
    "  type: sqlserver\n",
    "  driver: ODBC Driver 18 for SQL Server\n",
    "  host: soda.sql.azuresynapse.net\n",
    "  port: xxxx\n",
    "  username: my_sql_user\n",
    "  password: {mssparkutils.credentials.getSecret('soda-vault' , 'sql-pw')}\n",
    "  database: soda_sqlserver\n",
    "  schema: soda_demo_data_testing\n",
    "soda_cloud:\n",
    "  host: cloud.us.soda.io\n",
    "  api_key_id: {mssparkutils.credentials.getSecret('soda-vault' , 'soda-api-key-id')}\n",
    "  api_key_secret: {mssparkutils.credentials.getSecret('soda-vault' , 'soda-api-key-secret')}\n",
    "\"\"\""
   ],
   "outputs": [],
   "execution_count": null
  },
  {
   "cell_type": "markdown",
   "metadata": {
    "nteract": {
     "transient": {
      "deleting": false
     }
    }
   },
   "source": [
    "## Define data quality checks using Soda Checks Language (SodaCL)\n",
    "This section defines checks that test the completeness of the data after it has been ingested."
   ]
  },
  {
   "cell_type": "code",
   "metadata": {
    "jupyter": {
     "outputs_hidden": false,
     "source_hidden": false
    },
    "nteract": {
     "transient": {
      "deleting": false
     }
    }
   },
   "source": [
    "check_str = \"\"\"checks for retail_customers:\n",
    "- missing_percent(customer_id):\n",
    "    name: check completeness of customer_id\n",
    "    fail: when > 5%\n",
    "    attributes:\n",
    "        data_quality_dimension: [Completeness]\n",
    "        pipeline: ADF_pipeline_demo\n",
    "        pipeline_stage: Ingest\n",
    "        data_domain: Sales\n",
    "- duplicate_percent(customer_id):\n",
    "    name: check uniqueness of customer_id\n",
    "    fail: when > 5%\n",
    "    attributes:\n",
    "        data_quality_dimension: [Uniqueness]\n",
    "        pipeline: ADF_pipeline_demo\n",
    "        pipeline_stage: Ingest\n",
    "        data_domain: Sales\n",
    "- missing_percent(country_code):\n",
    "    name: check completeness of country_code\n",
    "    fail: when > 5%\n",
    "    attributes:\n",
    "        data_quality_dimension: [Completeness]\n",
    "        pipeline: ADF_pipeline_demo\n",
    "        pipeline_stage: Ingest\n",
    "        data_domain: Sales\n",
    "\"\"\""
   ],
   "outputs": [],
   "execution_count": null
  },
  {
   "cell_type": "markdown",
   "metadata": {
    "nteract": {
     "transient": {
      "deleting": false
     }
    }
   },
   "source": [
    "## Run the Soda scan\n",
    "\n",
    "If `scan.assert_no_checks_fail()` returns an `AssertionError` due to failed checks, then the Azure Data Factory pipeline in which this notebook resides halts."
   ]
  },
  {
   "cell_type": "code",
   "metadata": {
    "jupyter": {
     "outputs_hidden": false,
     "source_hidden": false
    },
    "nteract": {
     "transient": {
      "deleting": false
     }
    }
   },
   "source": [
    "from soda.scan import Scan\n",
    "scan = Scan()\n",
    "scan.set_verbose(True)\n",
    "scan.set_data_source_name('azure_sql_data')\n",
    "scan.add_configuration_yaml_str(config_str)\n",
    "scan.set_scan_definition_name('retail_customers_scan')\n",
    "scan.add_sodacl_yaml_str(check_str)\n",
    "scan.execute()\n",
    "scan.assert_no_checks_fail()"
   ],
   "outputs": [],
   "execution_count": null
  }
 ],
 "metadata": {
  "description": null,
  "kernelspec": {
   "display_name": "python",
   "name": "synapse_pyspark"
  },
  "language_info": {
   "name": "python"
  },
  "save_output": true,
  "synapse_widget": {
   "state": {},
   "version": "0.1"
  }
 },
 "nbformat": 4,
 "nbformat_minor": 2
}
