{
  "cells": [
    {
      "cell_type": "markdown",
      "metadata": {
        "nteract": {
          "transient": {
            "deleting": false
          }
        }
      },
      "source": [
        "# Soda Post-ingestion Checks\n",
        "Use Soda to run a scan that checks the completeness the data, ensuring data is not missing or duplicated."
      ]
    },
    {
      "cell_type": "markdown",
      "metadata": {
        "nteract": {
          "transient": {
            "deleting": false
          }
        }
      },
      "source": [
        "## Configure connections to the data source and Soda Cloud\n",
        "For sensitive credential values, this example gets the values from a linked Azure Key Vault."
      ]
    },
    {
      "cell_type": "code",
      "execution_count": 10,
      "metadata": {
        "jupyter": {
          "outputs_hidden": false,
          "source_hidden": false
        },
        "nteract": {
          "transient": {
            "deleting": false
          }
        }
      },
      "outputs": [
        {
          "data": {
            "application/vnd.livy.statement-meta+json": {
              "execution_finish_time": "2024-08-09T16:59:01.5948463Z",
              "execution_start_time": "2024-08-09T16:58:59.7624426Z",
              "livy_statement_state": "available",
              "normalized_state": "finished",
              "parent_msg_id": "9c0154c1-c1db-4b68-971a-a8c98758ef7b",
              "queued_time": "2024-08-09T16:57:49.7810908Z",
              "session_id": "30",
              "session_start_time": "2024-08-09T16:57:49.8218026Z",
              "spark_jobs": null,
              "spark_pool": "tasoda",
              "state": "finished",
              "statement_id": 2,
              "statement_ids": [
                2
              ]
            },
            "text/plain": [
              "StatementMeta(tasoda, 30, 2, Finished, Available, Finished)"
            ]
          },
          "metadata": {},
          "output_type": "display_data"
        }
      ],
      "source": [
        "from notebookutils import mssparkutils\n",
        "\n",
        "config_str = f\"\"\"\n",
        "data_source azure_sql_data:\n",
        "  type: sqlserver\n",
        "  driver: ODBC Driver 18 for SQL Server\n",
        "  host: soda.sql.azuresynapse.net\n",
        "  port: xxxx\n",
        "  username: my_sql_user\n",
        "  password: {mssparkutils.credentials.getSecret('soda-vault' , 'sql-pw')}\n",
        "  database: soda_sqlserver\n",
        "  schema: soda_demo_data_testing\n",
        "soda_cloud:\n",
        "  host: cloud.us.soda.io\n",
        "  api_key_id: {mssparkutils.credentials.getSecret('soda-vault' , 'soda-api-key-id')}\n",
        "  api_key_secret: {mssparkutils.credentials.getSecret('soda-vault' , 'soda-api-key-secret')}\n",
        "\"\"\""
      ]
    },
    {
      "cell_type": "markdown",
      "metadata": {
        "nteract": {
          "transient": {
            "deleting": false
          }
        }
      },
      "source": [
        "## Define data quality checks using Soda Checks Language (SodaCL)\n",
        "This section defines checks that test the completeness of the data after it has been ingested."
      ]
    },
    {
      "cell_type": "code",
      "execution_count": 11,
      "metadata": {
        "jupyter": {
          "outputs_hidden": false,
          "source_hidden": false
        },
        "nteract": {
          "transient": {
            "deleting": false
          }
        }
      },
      "outputs": [
        {
          "data": {
            "application/vnd.livy.statement-meta+json": {
              "execution_finish_time": "2024-08-09T16:59:01.9182309Z",
              "execution_start_time": "2024-08-09T16:59:01.7678323Z",
              "livy_statement_state": "available",
              "normalized_state": "finished",
              "parent_msg_id": "dc3378d0-bc3e-4c21-95e1-658555eb5893",
              "queued_time": "2024-08-09T16:57:52.916717Z",
              "session_id": "30",
              "session_start_time": null,
              "spark_jobs": null,
              "spark_pool": "tasoda",
              "state": "finished",
              "statement_id": 3,
              "statement_ids": [
                3
              ]
            },
            "text/plain": [
              "StatementMeta(tasoda, 30, 3, Finished, Available, Finished)"
            ]
          },
          "metadata": {},
          "output_type": "display_data"
        }
      ],
      "source": [
        "check_str = \"\"\"checks for retail_customers:\n",
        "- missing_percent(customer_id):\n",
        "    name: check completeness of customer_id\n",
        "    fail: when > 5%\n",
        "    attributes:\n",
        "        data_quality_dimension: [Completeness]\n",
        "        pipeline: ADF_pipeline_demo\n",
        "        pipeline_stage: Ingest\n",
        "        data_domain: Sales\n",
        "- duplicate_percent(customer_id):\n",
        "    name: check uniqueness of customer_id\n",
        "    fail: when > 5%\n",
        "    attributes:\n",
        "        data_quality_dimension: [Uniqueness]\n",
        "        pipeline: ADF_pipeline_demo\n",
        "        pipeline_stage: Ingest\n",
        "        data_domain: Sales\n",
        "- missing_percent(country_code):\n",
        "    name: check completeness of country_code\n",
        "    fail: when > 5%\n",
        "    attributes:\n",
        "        data_quality_dimension: [Completeness]\n",
        "        pipeline: ADF_pipeline_demo\n",
        "        pipeline_stage: Ingest\n",
        "        data_domain: Sales\n",
        "\"\"\""
      ]
    },
    {
      "cell_type": "markdown",
      "metadata": {
        "nteract": {
          "transient": {
            "deleting": false
          }
        }
      },
      "source": [
        "## Run the Soda scan\n",
        "\n",
        "If `scan.assert_no_checks_fail()` returns an `AssertionError` due to failed checks, then the Azure Data Factory pipeline in which this notebook resides halts."
      ]
    },
    {
      "cell_type": "code",
      "execution_count": 12,
      "metadata": {
        "jupyter": {
          "outputs_hidden": false,
          "source_hidden": false
        },
        "nteract": {
          "transient": {
            "deleting": false
          }
        }
      },
      "outputs": [
        {
          "data": {
            "application/vnd.livy.statement-meta+json": {
              "execution_finish_time": "2024-08-09T16:59:08.9515648Z",
              "execution_start_time": "2024-08-09T16:59:02.0879824Z",
              "livy_statement_state": "available",
              "normalized_state": "finished",
              "parent_msg_id": "6316c57f-2664-4dc4-a76d-6a66fdc2305d",
              "queued_time": "2024-08-09T16:57:54.7878969Z",
              "session_id": "30",
              "session_start_time": null,
              "spark_jobs": null,
              "spark_pool": "tasoda",
              "state": "finished",
              "statement_id": 4,
              "statement_ids": [
                4
              ]
            },
            "text/plain": [
              "StatementMeta(tasoda, 30, 4, Finished, Available, Finished)"
            ]
          },
          "metadata": {},
          "output_type": "display_data"
        }
      ],
      "source": [
        "from soda.scan import Scan\n",
        "scan = Scan()\n",
        "scan.set_verbose(True)\n",
        "scan.set_data_source_name('azure_sql_data')\n",
        "scan.add_configuration_yaml_str(config_str)\n",
        "scan.set_scan_definition_name('retail_customers_scan')\n",
        "scan.add_sodacl_yaml_str(check_str)\n",
        "scan.execute()\n",
        "scan.assert_no_checks_fail()"
      ]
    }
  ],
  "metadata": {
    "description": null,
    "kernelspec": {
      "display_name": "python",
      "name": "synapse_pyspark"
    },
    "language_info": {
      "name": "python"
    },
    "save_output": true,
    "synapse_widget": {
      "state": {},
      "version": "0.1"
    }
  },
  "nbformat": 4,
  "nbformat_minor": 2
}
