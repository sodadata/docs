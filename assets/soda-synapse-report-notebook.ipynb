{
 "cells": [
  {
   "cell_type": "markdown",
   "metadata": {
    "nteract": {
     "transient": {
      "deleting": false
     }
    }
   },
   "source": [
    "# Visualize the number of customers per country"
   ]
  },
  {
   "cell_type": "code",
   "metadata": {
    "jupyter": {
     "outputs_hidden": false,
     "source_hidden": false
    },
    "nteract": {
     "transient": {
      "deleting": false
     }
    }
   },
   "source": [
    "import pandas as pd\n",
    "import pyodbc\n",
    "from notebookutils import mssparkutils\n",
    "\n",
    "server = 'soda.sql.azuresynapse.net'\n",
    "database = 'soda'\n",
    "username = 'my_sql_user'\n",
    "password = mssparkutils.credentials.getSecret(\"soda-vault\" , \"sql-pw\")\n",
    "\n",
    "connection_string = f'DRIVER={{ODBC Driver 18 for SQL Server}};SERVER={server};DATABASE={database};UID={username};PWD={password}'\n",
    "conn = pyodbc.connect(connection_string)\n",
    "\n",
    "query = 'SELECT * FROM soda_demo_data_testing.retail_customer_count_by_country_code'\n",
    "df = pd.read_sql(query, con=conn)\n",
    "df.head()"
   ],
   "outputs": [],
   "execution_count": null
  },
  {
   "cell_type": "code",
   "metadata": {
    "jupyter": {
     "outputs_hidden": false,
     "source_hidden": false
    },
    "microsoft": {},
    "nteract": {
     "transient": {
      "deleting": false
     }
    }
   },
   "source": [
    "import pandas as pd\n",
    "import plotly.express as px\n",
    "\n",
    "fig = px.bar(\n",
    "    df.sort_values(by=['customer_count', 'country_code'], ascending=True),\n",
    "    x='country_code',\n",
    "    y='customer_count',\n",
    "    color='customer_count',\n",
    "    title='Customer Count by Country Code',\n",
    "    labels={'country_code': 'Country Code', 'customer_count': 'Number of Customers'}\n",
    ")\n",
    "\n",
    "fig.show()"
   ],
   "outputs": [],
   "execution_count": null
  },
  {
   "cell_type": "code",
   "metadata": {
    "jupyter": {
     "outputs_hidden": false,
     "source_hidden": false
    },
    "nteract": {
     "transient": {
      "deleting": false
     }
    }
   },
   "source": [
    "fig.write_html(\"/tmp/retail_customer_count_by_country_code_hist.html\")\n",
    "mssparkutils.fs.cp(\n",
    "    \"file:/tmp/retail_customer_count_by_country_code_hist.html\",\n",
    "    \"abfss://soda@soda.dfs.core.windows.net/Soda-in-ADF-pipeline/fig/retail_customer_count_by_country_code_hist.html\"\n",
    ")"
   ],
   "outputs": [],
   "execution_count": null
  },
  {
   "cell_type": "code",
   "metadata": {
    "jupyter": {
     "outputs_hidden": false,
     "source_hidden": false
    },
    "nteract": {
     "transient": {
      "deleting": false
     }
    }
   },
   "source": [],
   "outputs": [],
   "execution_count": null
  }
 ],
 "metadata": {
  "description": null,
  "kernel_info": {
   "name": "synapse_pyspark"
  },
  "kernelspec": {
   "display_name": "Synapse PySpark",
   "language": "Python",
   "name": "synapse_pyspark"
  },
  "language_info": {
   "name": "python"
  },
  "save_output": true,
  "synapse_widget": {
   "state": {},
   "version": "0.1"
  }
 },
 "nbformat": 4,
 "nbformat_minor": 2
}
