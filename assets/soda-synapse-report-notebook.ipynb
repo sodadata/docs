{
  "cells": [
    {
      "cell_type": "markdown",
      "metadata": {
        "nteract": {
          "transient": {
            "deleting": false
          }
        }
      },
      "source": [
        "# Visualize the number of customers per country"
      ]
    },
    {
      "cell_type": "code",
      "execution_count": 7,
      "metadata": {
        "jupyter": {
          "outputs_hidden": false,
          "source_hidden": false
        },
        "nteract": {
          "transient": {
            "deleting": false
          }
        }
      },
      "outputs": [
        {
          "data": {
            "application/vnd.livy.statement-meta+json": {
              "execution_finish_time": null,
              "execution_start_time": null,
              "livy_statement_state": null,
              "normalized_state": "session_starting",
              "parent_msg_id": "ce08cd61-e021-4c47-8470-8426ef3d3698",
              "queued_time": "2024-08-11T03:50:38.338888Z",
              "session_id": null,
              "session_start_time": "2024-08-11T03:50:38.3849853Z",
              "spark_jobs": null,
              "spark_pool": null,
              "state": "session_starting",
              "statement_id": -1,
              "statement_ids": []
            },
            "text/plain": [
              "StatementMeta(, , -1, SessionStarting, , SessionStarting)"
            ]
          },
          "metadata": {},
          "output_type": "display_data"
        }
      ],
      "source": [
        "import pandas as pd\n",
        "import pyodbc\n",
        "from notebookutils import mssparkutils\n",
        "\n",
        "server = 'soda.sql.azuresynapse.net'\n",
        "database = 'soda'\n",
        "username = 'my_sql_user'\n",
        "password = mssparkutils.credentials.getSecret(\"soda-vault\" , \"sql-pw\")\n",
        "\n",
        "connection_string = f'DRIVER={{ODBC Driver 18 for SQL Server}};SERVER={server};DATABASE={database};UID={username};PWD={password}'\n",
        "conn = pyodbc.connect(connection_string)\n",
        "\n",
        "query = 'SELECT * FROM soda_demo_data_testing.retail_customer_count_by_country_code'\n",
        "df = pd.read_sql(query, con=conn)\n",
        "df.head()"
      ]
    },
    {
      "cell_type": "code",
      "execution_count": null,
      "metadata": {
        "jupyter": {
          "outputs_hidden": false,
          "source_hidden": false
        },
        "microsoft": {},
        "nteract": {
          "transient": {
            "deleting": false
          }
        }
      },
      "outputs": [
        {
          "data": {
            "application/vnd.livy.statement-meta+json": {
              "execution_finish_time": null,
              "execution_start_time": null,
              "livy_statement_state": null,
              "normalized_state": "waiting",
              "parent_msg_id": "0612eb77-3037-4a18-8267-6e1ce5ee9ef7",
              "queued_time": "2024-08-11T03:50:39.1608182Z",
              "session_id": null,
              "session_start_time": null,
              "spark_jobs": null,
              "spark_pool": null,
              "state": "waiting",
              "statement_id": null,
              "statement_ids": null
            },
            "text/plain": [
              "StatementMeta(, , , Waiting, , Waiting)"
            ]
          },
          "metadata": {},
          "output_type": "display_data"
        }
      ],
      "source": [
        "import pandas as pd\n",
        "import plotly.express as px\n",
        "\n",
        "fig = px.bar(\n",
        "    df.sort_values(by=['customer_count', 'country_code'], ascending=True),\n",
        "    x='country_code',\n",
        "    y='customer_count',\n",
        "    color='customer_count',\n",
        "    title='Customer Count by Country Code',\n",
        "    labels={'country_code': 'Country Code', 'customer_count': 'Number of Customers'}\n",
        ")\n",
        "\n",
        "fig.show()"
      ]
    },
    {
      "cell_type": "code",
      "execution_count": null,
      "metadata": {
        "jupyter": {
          "outputs_hidden": false,
          "source_hidden": false
        },
        "nteract": {
          "transient": {
            "deleting": false
          }
        }
      },
      "outputs": [
        {
          "data": {
            "application/vnd.livy.statement-meta+json": {
              "execution_finish_time": null,
              "execution_start_time": null,
              "livy_statement_state": null,
              "normalized_state": "waiting",
              "parent_msg_id": "a6da555f-3bba-407b-afa0-741e39c39ea8",
              "queued_time": "2024-08-11T03:50:40.0141776Z",
              "session_id": null,
              "session_start_time": null,
              "spark_jobs": null,
              "spark_pool": null,
              "state": "waiting",
              "statement_id": null,
              "statement_ids": null
            },
            "text/plain": [
              "StatementMeta(, , , Waiting, , Waiting)"
            ]
          },
          "metadata": {},
          "output_type": "display_data"
        }
      ],
      "source": [
        "fig.write_html(\"/tmp/retail_customer_count_by_country_code_hist.html\")\n",
        "mssparkutils.fs.cp(\n",
        "    \"file:/tmp/retail_customer_count_by_country_code_hist.html\",\n",
        "    \"abfss://soda@soda.dfs.core.windows.net/Soda-in-ADF-pipeline/fig/retail_customer_count_by_country_code_hist.html\"\n",
        ")"
      ]
    },
    {
      "cell_type": "code",
      "execution_count": null,
      "metadata": {
        "jupyter": {
          "outputs_hidden": false,
          "source_hidden": false
        },
        "nteract": {
          "transient": {
            "deleting": false
          }
        }
      },
      "outputs": [],
      "source": []
    }
  ],
  "metadata": {
    "description": null,
    "kernel_info": {
      "name": "synapse_pyspark"
    },
    "kernelspec": {
      "display_name": "Synapse PySpark",
      "language": "Python",
      "name": "synapse_pyspark"
    },
    "language_info": {
      "name": "python"
    },
    "save_output": true,
    "synapse_widget": {
      "state": {},
      "version": "0.1"
    }
  },
  "nbformat": 4,
  "nbformat_minor": 2
}
