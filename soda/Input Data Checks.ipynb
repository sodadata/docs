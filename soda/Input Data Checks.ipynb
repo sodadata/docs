{
 "cells": [
  {
   "cell_type": "code",
   "execution_count": null,
   "metadata": {
    "application/vnd.databricks.v1+cell": {
     "cellMetadata": {
      "byteLimit": 2048000,
      "rowLimit": 10000
     },
     "inputWidgets": {},
     "nuid": "7e35eee4-89f0-4154-b2cf-5c8fd496bf14",
     "showTitle": false,
     "title": ""
    }
   },
   "outputs": [],
   "source": [
    "# Install to run checks on data in the file stored in Databricks file system\n",
    "pip install -i https://pypi.cloud.soda.io soda-spark[databricks]\n"
   ]
  },
  {
   "cell_type": "code",
   "execution_count": null,
   "metadata": {
    "application/vnd.databricks.v1+cell": {
     "cellMetadata": {
      "byteLimit": 2048000,
      "rowLimit": 10000
     },
     "inputWidgets": {},
     "nuid": "490cdcb2-1697-4155-9357-1365d6d4080e",
     "showTitle": false,
     "title": ""
    }
   },
   "outputs": [],
   "source": [
    "#restart to use updated packages\n",
    "%restart_python"
   ]
  },
  {
   "cell_type": "code",
   "execution_count": null,
   "metadata": {
    "application/vnd.databricks.v1+cell": {
     "cellMetadata": {
      "byteLimit": 2048000,
      "rowLimit": 10000
     },
     "inputWidgets": {},
     "nuid": "2443689a-3628-4719-83b3-993e9337ebe3",
     "showTitle": false,
     "title": ""
    }
   },
   "outputs": [],
   "source": [
    "# Import Scan from Soda Library\n",
    "from soda.scan import Scan \n",
    "import yaml\n",
    "from io import StringIO\n",
    "from pathlib import Path\n",
    "\n",
    "# Define file directory\n",
    "settings_path = Path('/Workspace/Users/vivi.belogianni@soda.io/employee_attrition/soda_settings')\n"
   ]
  },
  {
   "cell_type": "code",
   "execution_count": null,
   "metadata": {
    "application/vnd.databricks.v1+cell": {
     "cellMetadata": {
      "byteLimit": 2048000,
      "rowLimit": 10000
     },
     "inputWidgets": {},
     "nuid": "f562d833-657d-421d-93d1-5d2207218747",
     "showTitle": false,
     "title": ""
    }
   },
   "outputs": [],
   "source": [
    "# Create a scan object\n",
    "scan = Scan()\n",
    "\n",
    "# Set scan name and data source name\n",
    "scan.set_scan_definition_name(\"Attrition Model - Input Data Checks\")\n",
    "scan.set_data_source_name(\"employee_info\")\n",
    "\n",
    "# Attach a Spark session\n",
    "scan.add_spark_session(spark)"
   ]
  },
  {
   "cell_type": "code",
   "execution_count": null,
   "metadata": {
    "application/vnd.databricks.v1+cell": {
     "cellMetadata": {
      "byteLimit": 2048000,
      "rowLimit": 10000
     },
     "inputWidgets": {},
     "nuid": "3e2c9d70-c163-4a01-9641-7cd2eea78aa8",
     "showTitle": false,
     "title": ""
    }
   },
   "outputs": [],
   "source": [
    "# Access the checks YAML file \n",
    "with open(settings_path/\"input_data_checks.yml\") as input_checks:\n",
    "    input_data = input_checks.read()\n",
    "\n",
    "# Create a file-like object from the YAML content\n",
    "input_data_checks = StringIO(input_data)\n",
    "\n",
    "# Use the scan.add_sodacl_yaml method to retrieve the checks\n",
    "scan.add_sodacl_yaml_str(input_data_checks)"
   ]
  },
  {
   "cell_type": "code",
   "execution_count": null,
   "metadata": {
    "application/vnd.databricks.v1+cell": {
     "cellMetadata": {
      "byteLimit": 2048000,
      "rowLimit": 10000
     },
     "inputWidgets": {},
     "nuid": "03abf858-f6af-455b-84cf-9d48cf7e0235",
     "showTitle": false,
     "title": ""
    }
   },
   "outputs": [],
   "source": [
    "# Retrieve the configuration file and use the scan.add_sodacl_yaml method \n",
    "with open(settings_path/\"soda_conf.yml\") as cfg:\n",
    "    cfg_content = cfg.read()\n",
    "\n",
    "# Create a file-like object from the YAML content\n",
    "conf = StringIO(cfg_content)\n",
    "\n",
    "# Add the connection configuration to the scan\n",
    "scan.add_configuration_yaml_str(conf)"
   ]
  },
  {
   "cell_type": "code",
   "execution_count": null,
   "metadata": {
    "application/vnd.databricks.v1+cell": {
     "cellMetadata": {
      "byteLimit": 2048000,
      "rowLimit": 10000
     },
     "inputWidgets": {},
     "nuid": "b4e9a0db-f31e-488d-aad1-2b56c7ed56d9",
     "showTitle": false,
     "title": ""
    }
   },
   "outputs": [],
   "source": [
    "scan.execute()\n",
    "\n",
    "# Check the Scan object for methods to inspect the scan result; print all logs to console\n",
    "print(scan.get_logs_text())"
   ]
  }
 ],
 "metadata": {
  "application/vnd.databricks.v1+notebook": {
   "dashboards": [],
   "environmentMetadata": null,
   "language": "python",
   "notebookMetadata": {
    "pythonIndentUnit": 4
   },
   "notebookName": "Input Data Checks",
   "widgets": {}
  },
  "language_info": {
   "name": "python"
  }
 },
 "nbformat": 4,
 "nbformat_minor": 0
}
